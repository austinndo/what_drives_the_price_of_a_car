{
 "cells": [
  {
   "cell_type": "markdown",
   "metadata": {},
   "source": [
    "# What drives the price of a car?\n",
    "\n",
    "![](images/kurt.jpeg)"
   ]
  },
  {
   "cell_type": "code",
   "execution_count": null,
   "metadata": {},
   "outputs": [],
   "source": []
  },
  {
   "cell_type": "markdown",
   "metadata": {},
   "source": [
    "**OVERVIEW**\n",
    "\n",
    "In this application, you will explore a dataset from kaggle. The original dataset contained information on 3 million used cars. The provided dataset contains information on 426K cars to ensure speed of processing.  Your goal is to understand what factors make a car more or less expensive.  As a result of your analysis, you should provide clear recommendations to your client -- a used car dealership -- as to what consumers value in a used car."
   ]
  },
  {
   "cell_type": "markdown",
   "metadata": {},
   "source": [
    "### CRISP-DM Framework\n",
    "\n",
    "<center>\n",
    "    <img src = images/crisp.png width = 50%/>\n",
    "</center>\n",
    "\n",
    "\n",
    "To frame the task, throughout our practical applications we will refer back to a standard process in industry for data projects called CRISP-DM.  This process provides a framework for working through a data problem.  Your first step in this application will be to read through a brief overview of CRISP-DM [here](https://mo-pcco.s3.us-east-1.amazonaws.com/BH-PCMLAI/module_11/readings_starter.zip).  After reading the overview, answer the questions below."
   ]
  },
  {
   "cell_type": "markdown",
   "metadata": {},
   "source": [
    "---\n",
    "---\n",
    "\n",
    "### Business Understanding\n",
    "\n",
    "From a business perspective, we are tasked with identifying key drivers for used car prices.  In the CRISP-DM overview, we are asked to convert this business framing to a data problem definition.  Using a few sentences, reframe the task as a data task with the appropriate technical vocabulary. \n",
    "\n",
    "---\n",
    "---"
   ]
  },
  {
   "cell_type": "markdown",
   "metadata": {},
   "source": [
    "#### The data ask:\n",
    "\n",
    "**Explore the data obtained to determine which features are most significant in the prediction of a used car's price. The data are split between qualitative and quantitative data and may need to be transformed in order to be utilized in linear models for analysis. After exploring and checking the quality of the data, we may evaluate the models performance and assess whether feature engineering improvements should be made.**"
   ]
  },
  {
   "cell_type": "code",
   "execution_count": 522,
   "metadata": {},
   "outputs": [],
   "source": [
    "'''\n",
    "All of the necessary imports for the tasks to follow\n",
    "'''\n",
    "\n",
    "import pandas as pd\n",
    "import numpy as np\n",
    "import matplotlib.pyplot as plt\n",
    "\n",
    "from sklearn.compose import make_column_transformer, make_column_selector\n",
    "from sklearn.feature_selection import SequentialFeatureSelector\n",
    "from sklearn.linear_model import LinearRegression, Ridge, Lasso\n",
    "from sklearn.metrics import mean_squared_error\n",
    "from sklearn.model_selection import train_test_split, GridSearchCV\n",
    "from sklearn.pipeline import Pipeline\n",
    "from sklearn.preprocessing import PolynomialFeatures, StandardScaler, OneHotEncoder, OrdinalEncoder\n",
    "from sklearn import set_config\n",
    "set_config(display=\"diagram\")\n",
    "\n",
    "import warnings\n",
    "warnings.filterwarnings('ignore')"
   ]
  },
  {
   "cell_type": "markdown",
   "metadata": {},
   "source": [
    "---\n",
    "---\n",
    "\n",
    "### Data Understanding\n",
    "\n",
    "After considering the business understanding, we want to get familiar with our data.  Write down some steps that you would take to get to know the dataset and identify any quality issues within.  Take time to get to know the dataset and explore what information it contains and how this could be used to inform your business understanding.\n",
    "\n",
    "---\n",
    "---"
   ]
  },
  {
   "cell_type": "markdown",
   "metadata": {},
   "source": [
    "#### Inspect the data:\n",
    "\n",
    "1. Use methods `head()`, `tail()`, and `info()` to inspect the data\n",
    "- Note the data types\n",
    "- Note any null values\n",
    "\n",
    "2. Determine if any qualitative data should be converted into quantitative (or any other strings to ints)\n",
    "- If there is qualitative data, consider using `.unique()` to see what the range of values are for this feature\n",
    "\n",
    "3. Note how many records are available\n",
    "\n",
    "4. Scan for any outliers or features that may be dropped"
   ]
  },
  {
   "cell_type": "code",
   "execution_count": 523,
   "metadata": {},
   "outputs": [],
   "source": [
    "vehicles = pd.read_csv('./data/vehicles.csv')"
   ]
  },
  {
   "cell_type": "code",
   "execution_count": 524,
   "metadata": {},
   "outputs": [
    {
     "data": {
      "text/html": [
       "<div>\n",
       "<style scoped>\n",
       "    .dataframe tbody tr th:only-of-type {\n",
       "        vertical-align: middle;\n",
       "    }\n",
       "\n",
       "    .dataframe tbody tr th {\n",
       "        vertical-align: top;\n",
       "    }\n",
       "\n",
       "    .dataframe thead th {\n",
       "        text-align: right;\n",
       "    }\n",
       "</style>\n",
       "<table border=\"1\" class=\"dataframe\">\n",
       "  <thead>\n",
       "    <tr style=\"text-align: right;\">\n",
       "      <th></th>\n",
       "      <th>id</th>\n",
       "      <th>region</th>\n",
       "      <th>price</th>\n",
       "      <th>year</th>\n",
       "      <th>manufacturer</th>\n",
       "      <th>model</th>\n",
       "      <th>condition</th>\n",
       "      <th>cylinders</th>\n",
       "      <th>fuel</th>\n",
       "      <th>odometer</th>\n",
       "      <th>title_status</th>\n",
       "      <th>transmission</th>\n",
       "      <th>VIN</th>\n",
       "      <th>drive</th>\n",
       "      <th>size</th>\n",
       "      <th>type</th>\n",
       "      <th>paint_color</th>\n",
       "      <th>state</th>\n",
       "    </tr>\n",
       "  </thead>\n",
       "  <tbody>\n",
       "    <tr>\n",
       "      <th>426875</th>\n",
       "      <td>7301591192</td>\n",
       "      <td>wyoming</td>\n",
       "      <td>23590</td>\n",
       "      <td>2019.0</td>\n",
       "      <td>nissan</td>\n",
       "      <td>maxima s sedan 4d</td>\n",
       "      <td>good</td>\n",
       "      <td>6 cylinders</td>\n",
       "      <td>gas</td>\n",
       "      <td>32226.0</td>\n",
       "      <td>clean</td>\n",
       "      <td>other</td>\n",
       "      <td>1N4AA6AV6KC367801</td>\n",
       "      <td>fwd</td>\n",
       "      <td>NaN</td>\n",
       "      <td>sedan</td>\n",
       "      <td>NaN</td>\n",
       "      <td>wy</td>\n",
       "    </tr>\n",
       "    <tr>\n",
       "      <th>426876</th>\n",
       "      <td>7301591187</td>\n",
       "      <td>wyoming</td>\n",
       "      <td>30590</td>\n",
       "      <td>2020.0</td>\n",
       "      <td>volvo</td>\n",
       "      <td>s60 t5 momentum sedan 4d</td>\n",
       "      <td>good</td>\n",
       "      <td>NaN</td>\n",
       "      <td>gas</td>\n",
       "      <td>12029.0</td>\n",
       "      <td>clean</td>\n",
       "      <td>other</td>\n",
       "      <td>7JR102FKXLG042696</td>\n",
       "      <td>fwd</td>\n",
       "      <td>NaN</td>\n",
       "      <td>sedan</td>\n",
       "      <td>red</td>\n",
       "      <td>wy</td>\n",
       "    </tr>\n",
       "    <tr>\n",
       "      <th>426877</th>\n",
       "      <td>7301591147</td>\n",
       "      <td>wyoming</td>\n",
       "      <td>34990</td>\n",
       "      <td>2020.0</td>\n",
       "      <td>cadillac</td>\n",
       "      <td>xt4 sport suv 4d</td>\n",
       "      <td>good</td>\n",
       "      <td>NaN</td>\n",
       "      <td>diesel</td>\n",
       "      <td>4174.0</td>\n",
       "      <td>clean</td>\n",
       "      <td>other</td>\n",
       "      <td>1GYFZFR46LF088296</td>\n",
       "      <td>NaN</td>\n",
       "      <td>NaN</td>\n",
       "      <td>hatchback</td>\n",
       "      <td>white</td>\n",
       "      <td>wy</td>\n",
       "    </tr>\n",
       "    <tr>\n",
       "      <th>426878</th>\n",
       "      <td>7301591140</td>\n",
       "      <td>wyoming</td>\n",
       "      <td>28990</td>\n",
       "      <td>2018.0</td>\n",
       "      <td>lexus</td>\n",
       "      <td>es 350 sedan 4d</td>\n",
       "      <td>good</td>\n",
       "      <td>6 cylinders</td>\n",
       "      <td>gas</td>\n",
       "      <td>30112.0</td>\n",
       "      <td>clean</td>\n",
       "      <td>other</td>\n",
       "      <td>58ABK1GG4JU103853</td>\n",
       "      <td>fwd</td>\n",
       "      <td>NaN</td>\n",
       "      <td>sedan</td>\n",
       "      <td>silver</td>\n",
       "      <td>wy</td>\n",
       "    </tr>\n",
       "    <tr>\n",
       "      <th>426879</th>\n",
       "      <td>7301591129</td>\n",
       "      <td>wyoming</td>\n",
       "      <td>30590</td>\n",
       "      <td>2019.0</td>\n",
       "      <td>bmw</td>\n",
       "      <td>4 series 430i gran coupe</td>\n",
       "      <td>good</td>\n",
       "      <td>NaN</td>\n",
       "      <td>gas</td>\n",
       "      <td>22716.0</td>\n",
       "      <td>clean</td>\n",
       "      <td>other</td>\n",
       "      <td>WBA4J1C58KBM14708</td>\n",
       "      <td>rwd</td>\n",
       "      <td>NaN</td>\n",
       "      <td>coupe</td>\n",
       "      <td>NaN</td>\n",
       "      <td>wy</td>\n",
       "    </tr>\n",
       "  </tbody>\n",
       "</table>\n",
       "</div>"
      ],
      "text/plain": [
       "                id   region  price    year manufacturer  \\\n",
       "426875  7301591192  wyoming  23590  2019.0       nissan   \n",
       "426876  7301591187  wyoming  30590  2020.0        volvo   \n",
       "426877  7301591147  wyoming  34990  2020.0     cadillac   \n",
       "426878  7301591140  wyoming  28990  2018.0        lexus   \n",
       "426879  7301591129  wyoming  30590  2019.0          bmw   \n",
       "\n",
       "                           model condition    cylinders    fuel  odometer  \\\n",
       "426875         maxima s sedan 4d      good  6 cylinders     gas   32226.0   \n",
       "426876  s60 t5 momentum sedan 4d      good          NaN     gas   12029.0   \n",
       "426877          xt4 sport suv 4d      good          NaN  diesel    4174.0   \n",
       "426878           es 350 sedan 4d      good  6 cylinders     gas   30112.0   \n",
       "426879  4 series 430i gran coupe      good          NaN     gas   22716.0   \n",
       "\n",
       "       title_status transmission                VIN drive size       type  \\\n",
       "426875        clean        other  1N4AA6AV6KC367801   fwd  NaN      sedan   \n",
       "426876        clean        other  7JR102FKXLG042696   fwd  NaN      sedan   \n",
       "426877        clean        other  1GYFZFR46LF088296   NaN  NaN  hatchback   \n",
       "426878        clean        other  58ABK1GG4JU103853   fwd  NaN      sedan   \n",
       "426879        clean        other  WBA4J1C58KBM14708   rwd  NaN      coupe   \n",
       "\n",
       "       paint_color state  \n",
       "426875         NaN    wy  \n",
       "426876         red    wy  \n",
       "426877       white    wy  \n",
       "426878      silver    wy  \n",
       "426879         NaN    wy  "
      ]
     },
     "execution_count": 524,
     "metadata": {},
     "output_type": "execute_result"
    }
   ],
   "source": [
    "vehicles.tail()"
   ]
  },
  {
   "cell_type": "code",
   "execution_count": 525,
   "metadata": {},
   "outputs": [
    {
     "name": "stdout",
     "output_type": "stream",
     "text": [
      "<class 'pandas.core.frame.DataFrame'>\n",
      "RangeIndex: 426880 entries, 0 to 426879\n",
      "Data columns (total 18 columns):\n",
      " #   Column        Non-Null Count   Dtype  \n",
      "---  ------        --------------   -----  \n",
      " 0   id            426880 non-null  int64  \n",
      " 1   region        426880 non-null  object \n",
      " 2   price         426880 non-null  int64  \n",
      " 3   year          425675 non-null  float64\n",
      " 4   manufacturer  409234 non-null  object \n",
      " 5   model         421603 non-null  object \n",
      " 6   condition     252776 non-null  object \n",
      " 7   cylinders     249202 non-null  object \n",
      " 8   fuel          423867 non-null  object \n",
      " 9   odometer      422480 non-null  float64\n",
      " 10  title_status  418638 non-null  object \n",
      " 11  transmission  424324 non-null  object \n",
      " 12  VIN           265838 non-null  object \n",
      " 13  drive         296313 non-null  object \n",
      " 14  size          120519 non-null  object \n",
      " 15  type          334022 non-null  object \n",
      " 16  paint_color   296677 non-null  object \n",
      " 17  state         426880 non-null  object \n",
      "dtypes: float64(2), int64(2), object(14)\n",
      "memory usage: 58.6+ MB\n"
     ]
    }
   ],
   "source": [
    "vehicles.info()"
   ]
  },
  {
   "cell_type": "code",
   "execution_count": 526,
   "metadata": {},
   "outputs": [
    {
     "name": "stdout",
     "output_type": "stream",
     "text": [
      "These are the unique values for the CONDITION field: [nan 'good' 'excellent' 'fair' 'like new' 'new' 'salvage']\n",
      "These are the unique values for the TITLE_STATUS field: [nan 'clean' 'rebuilt' 'lien' 'salvage' 'missing' 'parts only']\n",
      "These are the unique values for the TYPE field: [nan 'pickup' 'truck' 'other' 'coupe' 'SUV' 'hatchback' 'mini-van' 'sedan'\n",
      " 'offroad' 'bus' 'van' 'convertible' 'wagon']\n",
      "These are the unique values for the DRIVE field: [nan 'rwd' '4wd' 'fwd']\n",
      "These are the unique values for the SIZE field: [nan 'full-size' 'mid-size' 'compact' 'sub-compact']\n",
      "These are the unique values for the FUEL field: [nan 'gas' 'other' 'diesel' 'hybrid' 'electric']\n"
     ]
    }
   ],
   "source": [
    "'''\n",
    "Check values for different fields by using a simple function that prints result of .unique()\n",
    "Consider converting to ints or use OneHotEncoder / OrdinalEncoder later on\n",
    "'''\n",
    "\n",
    "def returnUniques(field):\n",
    "    print(f'These are the unique values for the {field.upper()} field: {vehicles[field].unique()}')\n",
    "\n",
    "returnUniques(\"condition\")\n",
    "returnUniques(\"title_status\")\n",
    "\n",
    "returnUniques(\"type\")\n",
    "returnUniques(\"drive\")\n",
    "returnUniques(\"size\")\n",
    "returnUniques(\"fuel\")"
   ]
  },
  {
   "cell_type": "markdown",
   "metadata": {},
   "source": [
    "---\n",
    "#### Briefly visualize the data and how it is spread"
   ]
  },
  {
   "cell_type": "code",
   "execution_count": 527,
   "metadata": {},
   "outputs": [
    {
     "data": {
      "image/png": "[encoded data removed]",
      "text/plain": [
       "<Figure size 1200x600 with 1 Axes>"
      ]
     },
     "metadata": {},
     "output_type": "display_data"
    }
   ],
   "source": [
    "plt.figure(figsize=(12, 6))\n",
    "vehicles['manufacturer'].value_counts().plot(kind='bar')\n",
    "plt.xticks(rotation=90)\n",
    "plt.xlabel('Manufacturer')\n",
    "plt.ylabel('Count')\n",
    "plt.title('Manufacturer Counts')\n",
    "plt.show()"
   ]
  },
  {
   "cell_type": "code",
   "execution_count": 528,
   "metadata": {},
   "outputs": [
    {
     "data": {
      "image/png": "[encoded data removed]",
      "text/plain": [
       "<Figure size 1200x600 with 1 Axes>"
      ]
     },
     "metadata": {},
     "output_type": "display_data"
    }
   ],
   "source": [
    "plt.figure(figsize=(12, 6))\n",
    "vehicles['paint_color'].value_counts().plot(kind='bar')\n",
    "plt.xticks(rotation=45)\n",
    "plt.xlabel('Paint Color')\n",
    "plt.ylabel('Count')\n",
    "plt.title('Paint Color Counts')\n",
    "plt.show()"
   ]
  },
  {
   "cell_type": "code",
   "execution_count": 529,
   "metadata": {},
   "outputs": [
    {
     "data": {
      "image/png": "[encoded data removed]",
      "text/plain": [
       "<Figure size 1200x600 with 1 Axes>"
      ]
     },
     "metadata": {},
     "output_type": "display_data"
    }
   ],
   "source": [
    "plt.figure(figsize=(12, 6))\n",
    "vehicles['type'].value_counts().plot(kind='bar')\n",
    "plt.xticks(rotation=45)\n",
    "plt.xlabel('Car Type')\n",
    "plt.ylabel('Count')\n",
    "plt.title('Counts of the Types of Cars')\n",
    "plt.show()"
   ]
  },
  {
   "cell_type": "markdown",
   "metadata": {},
   "source": [
    "---"
   ]
  },
  {
   "cell_type": "code",
   "execution_count": 531,
   "metadata": {},
   "outputs": [
    {
     "name": "stdout",
     "output_type": "stream",
     "text": [
      "Counts of null values:\n"
     ]
    },
    {
     "data": {
      "text/plain": [
       "size            306361\n",
       "cylinders       177678\n",
       "condition       174104\n",
       "VIN             161042\n",
       "drive           130567\n",
       "paint_color     130203\n",
       "type             92858\n",
       "manufacturer     17646\n",
       "title_status      8242\n",
       "model             5277\n",
       "odometer          4400\n",
       "fuel              3013\n",
       "transmission      2556\n",
       "year              1205\n",
       "id                   0\n",
       "region               0\n",
       "price                0\n",
       "state                0\n",
       "dtype: int64"
      ]
     },
     "execution_count": 531,
     "metadata": {},
     "output_type": "execute_result"
    }
   ],
   "source": [
    "print('Counts of null values:')\n",
    "vehicles.isnull().sum().sort_values(ascending=False)"
   ]
  },
  {
   "cell_type": "markdown",
   "metadata": {},
   "source": [
    "---\n",
    "---\n",
    "\n",
    "### Data Preparation\n",
    "\n",
    "After our initial exploration and fine tuning of the business understanding, it is time to construct our final dataset prior to modeling.  Here, we want to make sure to handle any integrity issues and cleaning, the engineering of new features, any transformations that we believe should happen (scaling, logarithms, normalization, etc.), and general preparation for modeling with `sklearn`. \n",
    "\n",
    "---\n",
    "---"
   ]
  },
  {
   "cell_type": "markdown",
   "metadata": {},
   "source": [
    "#### Inspection summary:\n",
    "\n",
    "We collected data for 426880 entries. Several fields were recorded as qualitative data which we will need to convert to ints or utilize the OneHotEncoder or OrdinalEncoders in future model creation. There were a significant number of null values as well, with the `size` field containing the most (306,361). We will want to drop some of the null values but we still want to make use of the many records available.\n",
    "\n",
    "Certain fields including region and state may be dropped, as my goal will be to provide insights that will be applicable to any general used car dealer. Finally, some field data types may be altered to better suit our needs. The `cylinders` field can be converted to an int by removing the unecessary 'cylinders' string."
   ]
  },
  {
   "cell_type": "code",
   "execution_count": 532,
   "metadata": {},
   "outputs": [],
   "source": [
    "'''\n",
    "Create a list of columns to drop from our data--\n",
    "While size would be a good feature to include, there are many null values and I don't want to make assumptions or\n",
    "set a default value without more data. We can note that this could be a feature to focus on obtaining data for in the next iteration.\n",
    "'''\n",
    "\n",
    "list_to_drop = ['region', 'state', 'id', 'VIN', 'size']\n",
    "vehicles = vehicles.drop(columns=list_to_drop)"
   ]
  },
  {
   "cell_type": "code",
   "execution_count": 533,
   "metadata": {},
   "outputs": [],
   "source": [
    "'''\n",
    "Now that `size` has been removed, we can drop the null values with `.dropna()`\n",
    "I'll also convert the cylinders values into ints by removing the `cylinders` string text\n",
    "'''\n",
    "\n",
    "vehicles['cylinders'] = vehicles['cylinders'].str.extract(r'(\\d+)').astype(float)\n",
    "vehicles = vehicles.dropna()"
   ]
  },
  {
   "cell_type": "code",
   "execution_count": 534,
   "metadata": {},
   "outputs": [
    {
     "data": {
      "text/html": [
       "<div>\n",
       "<style scoped>\n",
       "    .dataframe tbody tr th:only-of-type {\n",
       "        vertical-align: middle;\n",
       "    }\n",
       "\n",
       "    .dataframe tbody tr th {\n",
       "        vertical-align: top;\n",
       "    }\n",
       "\n",
       "    .dataframe thead th {\n",
       "        text-align: right;\n",
       "    }\n",
       "</style>\n",
       "<table border=\"1\" class=\"dataframe\">\n",
       "  <thead>\n",
       "    <tr style=\"text-align: right;\">\n",
       "      <th></th>\n",
       "      <th>price</th>\n",
       "      <th>year</th>\n",
       "      <th>manufacturer</th>\n",
       "      <th>model</th>\n",
       "      <th>condition</th>\n",
       "      <th>cylinders</th>\n",
       "      <th>fuel</th>\n",
       "      <th>odometer</th>\n",
       "      <th>title_status</th>\n",
       "      <th>transmission</th>\n",
       "      <th>drive</th>\n",
       "      <th>type</th>\n",
       "      <th>paint_color</th>\n",
       "    </tr>\n",
       "  </thead>\n",
       "  <tbody>\n",
       "    <tr>\n",
       "      <th>31</th>\n",
       "      <td>15000</td>\n",
       "      <td>2013.0</td>\n",
       "      <td>ford</td>\n",
       "      <td>f-150 xlt</td>\n",
       "      <td>excellent</td>\n",
       "      <td>6.0</td>\n",
       "      <td>gas</td>\n",
       "      <td>128000.0</td>\n",
       "      <td>clean</td>\n",
       "      <td>automatic</td>\n",
       "      <td>rwd</td>\n",
       "      <td>truck</td>\n",
       "      <td>black</td>\n",
       "    </tr>\n",
       "    <tr>\n",
       "      <th>32</th>\n",
       "      <td>27990</td>\n",
       "      <td>2012.0</td>\n",
       "      <td>gmc</td>\n",
       "      <td>sierra 2500 hd extended cab</td>\n",
       "      <td>good</td>\n",
       "      <td>8.0</td>\n",
       "      <td>gas</td>\n",
       "      <td>68696.0</td>\n",
       "      <td>clean</td>\n",
       "      <td>other</td>\n",
       "      <td>4wd</td>\n",
       "      <td>pickup</td>\n",
       "      <td>black</td>\n",
       "    </tr>\n",
       "    <tr>\n",
       "      <th>33</th>\n",
       "      <td>34590</td>\n",
       "      <td>2016.0</td>\n",
       "      <td>chevrolet</td>\n",
       "      <td>silverado 1500 double</td>\n",
       "      <td>good</td>\n",
       "      <td>6.0</td>\n",
       "      <td>gas</td>\n",
       "      <td>29499.0</td>\n",
       "      <td>clean</td>\n",
       "      <td>other</td>\n",
       "      <td>4wd</td>\n",
       "      <td>pickup</td>\n",
       "      <td>silver</td>\n",
       "    </tr>\n",
       "    <tr>\n",
       "      <th>34</th>\n",
       "      <td>35000</td>\n",
       "      <td>2019.0</td>\n",
       "      <td>toyota</td>\n",
       "      <td>tacoma</td>\n",
       "      <td>excellent</td>\n",
       "      <td>6.0</td>\n",
       "      <td>gas</td>\n",
       "      <td>43000.0</td>\n",
       "      <td>clean</td>\n",
       "      <td>automatic</td>\n",
       "      <td>4wd</td>\n",
       "      <td>truck</td>\n",
       "      <td>grey</td>\n",
       "    </tr>\n",
       "    <tr>\n",
       "      <th>35</th>\n",
       "      <td>29990</td>\n",
       "      <td>2016.0</td>\n",
       "      <td>chevrolet</td>\n",
       "      <td>colorado extended cab</td>\n",
       "      <td>good</td>\n",
       "      <td>6.0</td>\n",
       "      <td>gas</td>\n",
       "      <td>17302.0</td>\n",
       "      <td>clean</td>\n",
       "      <td>other</td>\n",
       "      <td>4wd</td>\n",
       "      <td>pickup</td>\n",
       "      <td>red</td>\n",
       "    </tr>\n",
       "  </tbody>\n",
       "</table>\n",
       "</div>"
      ],
      "text/plain": [
       "    price    year manufacturer                        model  condition  \\\n",
       "31  15000  2013.0         ford                    f-150 xlt  excellent   \n",
       "32  27990  2012.0          gmc  sierra 2500 hd extended cab       good   \n",
       "33  34590  2016.0    chevrolet        silverado 1500 double       good   \n",
       "34  35000  2019.0       toyota                       tacoma  excellent   \n",
       "35  29990  2016.0    chevrolet        colorado extended cab       good   \n",
       "\n",
       "    cylinders fuel  odometer title_status transmission drive    type  \\\n",
       "31        6.0  gas  128000.0        clean    automatic   rwd   truck   \n",
       "32        8.0  gas   68696.0        clean        other   4wd  pickup   \n",
       "33        6.0  gas   29499.0        clean        other   4wd  pickup   \n",
       "34        6.0  gas   43000.0        clean    automatic   4wd   truck   \n",
       "35        6.0  gas   17302.0        clean        other   4wd  pickup   \n",
       "\n",
       "   paint_color  \n",
       "31       black  \n",
       "32       black  \n",
       "33      silver  \n",
       "34        grey  \n",
       "35         red  "
      ]
     },
     "execution_count": 534,
     "metadata": {},
     "output_type": "execute_result"
    }
   ],
   "source": [
    "vehicles.head()"
   ]
  },
  {
   "cell_type": "code",
   "execution_count": 535,
   "metadata": {},
   "outputs": [
    {
     "name": "stdout",
     "output_type": "stream",
     "text": [
      "<class 'pandas.core.frame.DataFrame'>\n",
      "Index: 115680 entries, 31 to 426878\n",
      "Data columns (total 13 columns):\n",
      " #   Column        Non-Null Count   Dtype  \n",
      "---  ------        --------------   -----  \n",
      " 0   price         115680 non-null  int64  \n",
      " 1   year          115680 non-null  float64\n",
      " 2   manufacturer  115680 non-null  object \n",
      " 3   model         115680 non-null  object \n",
      " 4   condition     115680 non-null  object \n",
      " 5   cylinders     115680 non-null  float64\n",
      " 6   fuel          115680 non-null  object \n",
      " 7   odometer      115680 non-null  float64\n",
      " 8   title_status  115680 non-null  object \n",
      " 9   transmission  115680 non-null  object \n",
      " 10  drive         115680 non-null  object \n",
      " 11  type          115680 non-null  object \n",
      " 12  paint_color   115680 non-null  object \n",
      "dtypes: float64(3), int64(1), object(9)\n",
      "memory usage: 12.4+ MB\n"
     ]
    }
   ],
   "source": [
    "vehicles.info()"
   ]
  },
  {
   "cell_type": "code",
   "execution_count": 536,
   "metadata": {},
   "outputs": [],
   "source": [
    "'''\n",
    "Reviewing the dataframe after transforming cylinders and dropping null values, we are left with 115,680 entries.\n",
    "\n",
    "We notice high MSEs in the models so we decide to come back and test the log price for y_train and y_test for later on when we fit the data.\n",
    "The log y_train and y_test still return similar MSE values.\n",
    "'''\n",
    "\n",
    "X = vehicles.drop('price', axis = 1)\n",
    "y = vehicles['price']\n",
    "X_train, X_test, y_train, y_test = train_test_split(X, y, test_size = 0.3, random_state = 42)\n",
    "\n",
    "# y_train_log = np.log1p(y_train)\n",
    "# y_test_log = np.log1p(y_test)"
   ]
  },
  {
   "cell_type": "code",
   "execution_count": 537,
   "metadata": {},
   "outputs": [
    {
     "data": {
      "text/html": [
       "<div>\n",
       "<style scoped>\n",
       "    .dataframe tbody tr th:only-of-type {\n",
       "        vertical-align: middle;\n",
       "    }\n",
       "\n",
       "    .dataframe tbody tr th {\n",
       "        vertical-align: top;\n",
       "    }\n",
       "\n",
       "    .dataframe thead th {\n",
       "        text-align: right;\n",
       "    }\n",
       "</style>\n",
       "<table border=\"1\" class=\"dataframe\">\n",
       "  <thead>\n",
       "    <tr style=\"text-align: right;\">\n",
       "      <th></th>\n",
       "      <th>price</th>\n",
       "    </tr>\n",
       "  </thead>\n",
       "  <tbody>\n",
       "    <tr>\n",
       "      <th>price</th>\n",
       "      <td>1.000000</td>\n",
       "    </tr>\n",
       "    <tr>\n",
       "      <th>cylinders</th>\n",
       "      <td>0.005160</td>\n",
       "    </tr>\n",
       "    <tr>\n",
       "      <th>odometer</th>\n",
       "      <td>0.000694</td>\n",
       "    </tr>\n",
       "    <tr>\n",
       "      <th>year</th>\n",
       "      <td>-0.001586</td>\n",
       "    </tr>\n",
       "  </tbody>\n",
       "</table>\n",
       "</div>"
      ],
      "text/plain": [
       "              price\n",
       "price      1.000000\n",
       "cylinders  0.005160\n",
       "odometer   0.000694\n",
       "year      -0.001586"
      ]
     },
     "execution_count": 537,
     "metadata": {},
     "output_type": "execute_result"
    }
   ],
   "source": [
    "'''\n",
    "Before using OneHotEncoder or OrdinalEncoder, let's see what numerical feature is most correlated to price\n",
    "'''\n",
    "\n",
    "vehicles_ints = vehicles[['price', 'year', 'cylinders', 'odometer']]\n",
    "corrs = vehicles_ints.corr()[['price']].nlargest(columns = 'price', n=len(vehicles_ints))\n",
    "corrs"
   ]
  },
  {
   "cell_type": "code",
   "execution_count": 538,
   "metadata": {},
   "outputs": [],
   "source": [
    "'''\n",
    "Let's set up the column transformer using both Encoders. I'll create new lists of the unique values, \n",
    "with the order of the values in mind for the OrdinalEncoder. The order would be best determined following \n",
    "guidance from the dealership. For the purposes of this analysis we order the values ourselves.\n",
    "'''\n",
    "condition_categories = [['salvage', 'fair', 'good', 'excellent', 'like new', 'new', ]]\n",
    "title_status_categories = [['parts only', 'missing', 'salvage', 'rebuilt', 'lien', 'clean']]\n",
    "\n",
    "#  OneHotEncoder with all fields\n",
    "full_transformer = make_column_transformer((PolynomialFeatures(), make_column_selector(dtype_include=np.number)),\n",
    "                                           (OrdinalEncoder(categories = condition_categories), ['condition']),\n",
    "                                             (OrdinalEncoder(categories = title_status_categories), ['title_status']),\n",
    "                                               (OneHotEncoder(drop = 'if_binary', sparse = False), ['manufacturer', 'model', 'fuel', 'transmission', 'drive', 'type', 'paint_color']))\n",
    "\n",
    "# Updated transformer, drop manufacturer, model, paint_color for faster processing\n",
    "column_transformer = make_column_transformer((PolynomialFeatures(), make_column_selector(dtype_include=np.number)),\n",
    "                                           (OrdinalEncoder(categories = condition_categories), ['condition']),\n",
    "                                             (OrdinalEncoder(categories = title_status_categories), ['title_status']),\n",
    "                                               (OneHotEncoder(drop = 'if_binary', sparse = False), ['fuel', 'transmission', 'drive', 'type']))"
   ]
  },
  {
   "cell_type": "markdown",
   "metadata": {},
   "source": [
    "---\n",
    "---\n",
    "\n",
    "### Modeling\n",
    "\n",
    "With your (almost?) final dataset in hand, it is now time to build some models.  Here, you should build a number of different regression models with the price as the target.  In building your models, you should explore different parameters and be sure to cross-validate your findings.\n",
    "\n",
    "---\n",
    "---"
   ]
  },
  {
   "cell_type": "code",
   "execution_count": 539,
   "metadata": {},
   "outputs": [
    {
     "name": "stdout",
     "output_type": "stream",
     "text": [
      "All features:\n",
      "['year', 'manufacturer', 'model', 'condition', 'cylinders', 'fuel', 'odometer', 'title_status', 'transmission', 'drive', 'type', 'paint_color']\n",
      "Ordinals:\n",
      "['condition', 'title_status']\n",
      "OneHot:\n",
      "['fuel', 'transmission', 'drive', 'type']\n"
     ]
    }
   ],
   "source": [
    "'''\n",
    "Review all features here. Let's make a variety of models, and investigate two sets of features. We'll introduce a combination\n",
    "of the originally int/float data as well as the data to be transformed via the OrdinalEncoder and OneHotEncoder\n",
    "'''\n",
    "\n",
    "\n",
    "all_features = list(X_train.columns)\n",
    "print('All features:')\n",
    "print(all_features)\n",
    "\n",
    "print('Ordinals:')\n",
    "print(['condition', 'title_status'])\n",
    "\n",
    "print('OneHot:')\n",
    "print(['fuel', 'transmission', 'drive', 'type'])"
   ]
  },
  {
   "cell_type": "code",
   "execution_count": 540,
   "metadata": {},
   "outputs": [],
   "source": [
    "features = ['year', 'condition', 'title_status', 'cylinders', 'odometer', 'type']\n",
    "\n",
    "column_transformer = make_column_transformer((PolynomialFeatures(), make_column_selector(dtype_include=np.number)),\n",
    "                                           (OrdinalEncoder(categories = condition_categories), ['condition']),\n",
    "                                             (OrdinalEncoder(categories = title_status_categories), ['title_status']),\n",
    "                                               (OneHotEncoder(drop = 'if_binary', sparse = False), ['type']))\n",
    "\n",
    "features_2 = ['fuel', 'transmission', 'drive', 'year', 'cylinders', 'odometer']\n",
    "\n",
    "column_transformer_2 = make_column_transformer((PolynomialFeatures(), make_column_selector(dtype_include=np.number)),\n",
    "                                               (OneHotEncoder(drop = 'if_binary', sparse = False), ['fuel', 'transmission', 'drive']))"
   ]
  },
  {
   "cell_type": "markdown",
   "metadata": {},
   "source": [
    "#### Sequential Feature Selector\n",
    "\n",
    "SFS models using the two features we set above."
   ]
  },
  {
   "cell_type": "code",
   "execution_count": 541,
   "metadata": {},
   "outputs": [
    {
     "name": "stdout",
     "output_type": "stream",
     "text": [
      "SFS Feature 1 - Train MSE: 601569536703.4005\n",
      "SFS Feature 1 - Test MSE: 437969641928325.06\n"
     ]
    }
   ],
   "source": [
    "# Feature set 1\n",
    "sfs_pipe = Pipeline([\n",
    "    ('transformer', column_transformer),\n",
    "    ('selector', SequentialFeatureSelector(LinearRegression())),\n",
    "    ('model', LinearRegression())\n",
    "])\n",
    "\n",
    "params = {'selector__n_features_to_select': [2, 3, 4, 5]}\n",
    "sfs_grid = GridSearchCV(sfs_pipe, param_grid=params)\n",
    "sfs_grid.fit(X_train[features], y_train)\n",
    "\n",
    "sfs_train_preds = sfs_grid.predict(X_train[features])\n",
    "sfs_test_preds = sfs_grid.predict(X_test[features])\n",
    "\n",
    "sfs_train_mse = mean_squared_error(y_train, sfs_train_preds)\n",
    "sfs_test_mse = mean_squared_error(y_test, sfs_test_preds)\n",
    "\n",
    "print(f'SFS Feature 1 - Train MSE: {sfs_train_mse}')\n",
    "print(f'SFS Feature 1 - Test MSE: {sfs_test_mse}')"
   ]
  },
  {
   "cell_type": "code",
   "execution_count": 542,
   "metadata": {},
   "outputs": [
    {
     "name": "stdout",
     "output_type": "stream",
     "text": [
      "SFS Feature 2 - Train MSE: 601552502975.882\n",
      "SFS Feature 2 - Test MSE: 437969159060589.06\n"
     ]
    }
   ],
   "source": [
    "# Feature set 2\n",
    "sfs_pipe_2 = Pipeline([\n",
    "    ('transformer', column_transformer_2),\n",
    "    ('selector', SequentialFeatureSelector(LinearRegression())),\n",
    "    ('model', LinearRegression())\n",
    "])\n",
    "\n",
    "params = {'selector__n_features_to_select': [2, 3, 4, 5]}\n",
    "sfs_grid_2 = GridSearchCV(sfs_pipe_2, param_grid=params)\n",
    "sfs_grid_2.fit(X_train[features_2], y_train)\n",
    "\n",
    "sfs_train_preds_2 = sfs_grid_2.predict(X_train[features_2])\n",
    "sfs_test_preds_2 = sfs_grid_2.predict(X_test[features_2])\n",
    "\n",
    "sfs_train_mse_2 = mean_squared_error(y_train, sfs_train_preds_2)\n",
    "sfs_test_mse_2 = mean_squared_error(y_test, sfs_test_preds_2)\n",
    "\n",
    "print(f'SFS Feature 2 - Train MSE: {sfs_train_mse_2}')\n",
    "print(f'SFS Feature 2 - Test MSE: {sfs_test_mse_2}')"
   ]
  },
  {
   "cell_type": "markdown",
   "metadata": {},
   "source": [
    "#### Ridge\n",
    "Create Ridge models with alphas of np.logspace(0, 10, 50) for both sets of features"
   ]
  },
  {
   "cell_type": "code",
   "execution_count": 543,
   "metadata": {},
   "outputs": [
    {
     "name": "stdout",
     "output_type": "stream",
     "text": [
      "Ridge Feature 1 - Train MSE: 601499170120.354\n",
      "Ridge Feature 1 - Test MSE: 437967171846931.5\n"
     ]
    }
   ],
   "source": [
    "# Feature 1\n",
    "ridge_params = {'ridge__alpha': np.logspace(0, 10, 50)}\n",
    "ridge_pipe = Pipeline([\n",
    "    ('transformer', column_transformer),\n",
    "    ('scaler', StandardScaler()),\n",
    "    ('ridge', Ridge())\n",
    "])\n",
    "\n",
    "ridge_grid = GridSearchCV(ridge_pipe, param_grid=ridge_params)\n",
    "ridge_grid.fit(X_train, y_train)\n",
    "\n",
    "ridge_train_preds = ridge_grid.predict(X_train)\n",
    "ridge_test_preds = ridge_grid.predict(X_test)\n",
    "\n",
    "ridge_train_mse = mean_squared_error(y_train, ridge_train_preds)\n",
    "ridge_test_mse = mean_squared_error(y_test, ridge_test_preds)\n",
    "\n",
    "print(f'Ridge Feature 1 - Train MSE: {ridge_train_mse}')\n",
    "print(f'Ridge Feature 1 - Test MSE: {ridge_test_mse}')"
   ]
  },
  {
   "cell_type": "code",
   "execution_count": 544,
   "metadata": {},
   "outputs": [
    {
     "name": "stdout",
     "output_type": "stream",
     "text": [
      "Ridge Feature 2 - Train MSE: 601516198898.942\n",
      "Ridge Feature 2 - Test MSE: 437968125253259.06\n"
     ]
    }
   ],
   "source": [
    "# Feature 2\n",
    "ridge_params = {'ridge__alpha': np.logspace(0, 10, 50)}\n",
    "ridge_pipe_2 = Pipeline([\n",
    "    ('transformer', column_transformer_2),\n",
    "    ('scaler', StandardScaler()),\n",
    "    ('ridge', Ridge())\n",
    "])\n",
    "\n",
    "ridge_grid_2 = GridSearchCV(ridge_pipe_2, param_grid=ridge_params)\n",
    "ridge_grid_2.fit(X_train[features_2], y_train)\n",
    "\n",
    "ridge_train_preds_2 = ridge_grid_2.predict(X_train[features_2])\n",
    "ridge_test_preds_2 = ridge_grid_2.predict(X_test[features_2])\n",
    "\n",
    "ridge_train_mse_2 = mean_squared_error(y_train, ridge_train_preds_2)\n",
    "ridge_test_mse_2 = mean_squared_error(y_test, ridge_test_preds_2)\n",
    "\n",
    "print(f'Ridge Feature 2 - Train MSE: {ridge_train_mse_2}')\n",
    "print(f'Ridge Feature 2 - Test MSE: {ridge_test_mse_2}')"
   ]
  },
  {
   "cell_type": "markdown",
   "metadata": {},
   "source": [
    "#### LASSO"
   ]
  },
  {
   "cell_type": "code",
   "execution_count": 545,
   "metadata": {},
   "outputs": [
    {
     "name": "stdout",
     "output_type": "stream",
     "text": [
      "LASSO Feature 1 - Train MSE: 601452647949.6089\n",
      "LASSO Feature 1 - Test MSE: 437963951428190.3\n"
     ]
    }
   ],
   "source": [
    "#  Feature 1\n",
    "lasso_pipe = Pipeline([\n",
    "    ('transformer', column_transformer),\n",
    "    ('scaler', StandardScaler()),\n",
    "    ('lasso', Lasso(random_state = 42))\n",
    "])\n",
    "\n",
    "lasso_pipe.fit(X_train[features], y_train)\n",
    "lasso_coefs = lasso_pipe.named_steps['lasso'].coef_\n",
    "\n",
    "lasso_train_mse = mean_squared_error(y_train, lasso_pipe.predict(X_train[features]))\n",
    "lasso_test_mse = mean_squared_error(y_test, lasso_pipe.predict(X_test[features]))\n",
    "\n",
    "print(f'LASSO Feature 1 - Train MSE: {lasso_train_mse}')\n",
    "print(f'LASSO Feature 1 - Test MSE: {lasso_test_mse}')"
   ]
  },
  {
   "cell_type": "code",
   "execution_count": 546,
   "metadata": {},
   "outputs": [
    {
     "name": "stdout",
     "output_type": "stream",
     "text": [
      "LASSO Feature 2 - Train MSE: 601487431021.9935\n",
      "LASSO Feature 2 - Test MSE: 437966865767189.25\n"
     ]
    }
   ],
   "source": [
    "#  Feature 2\n",
    "lasso_pipe_2 = Pipeline([\n",
    "    ('transformer', column_transformer_2),\n",
    "    ('scaler', StandardScaler()),\n",
    "    ('lasso', Lasso(random_state = 42))\n",
    "])\n",
    "\n",
    "lasso_pipe_2.fit(X_train[features_2], y_train)\n",
    "lasso_coefs_2 = lasso_pipe_2.named_steps['lasso'].coef_\n",
    "\n",
    "lasso_train_mse_2 = mean_squared_error(y_train, lasso_pipe_2.predict(X_train[features_2]))\n",
    "lasso_test_mse_2 = mean_squared_error(y_test, lasso_pipe_2.predict(X_test[features_2]))\n",
    "\n",
    "print(f'LASSO Feature 2 - Train MSE: {lasso_train_mse_2}')\n",
    "print(f'LASSO Feature 2 - Test MSE: {lasso_test_mse_2}')"
   ]
  },
  {
   "cell_type": "markdown",
   "metadata": {},
   "source": [
    "---\n",
    "---\n",
    "\n",
    "### Evaluation\n",
    "\n",
    "With some modeling accomplished, we aim to reflect on what we identify as a high quality model and what we are able to learn from this.  We should review our business objective and explore how well we can provide meaningful insight on drivers of used car prices.  Your goal now is to distill your findings and determine whether the earlier phases need revisitation and adjustment or if you have information of value to bring back to your client.\n",
    "\n",
    "---\n",
    "---"
   ]
  },
  {
   "cell_type": "markdown",
   "metadata": {},
   "source": [
    "#### Sequential Feature Selector"
   ]
  },
  {
   "cell_type": "code",
   "execution_count": 547,
   "metadata": {},
   "outputs": [
    {
     "name": "stdout",
     "output_type": "stream",
     "text": [
      "Selected features: Index(['polynomialfeatures__year odometer', 'polynomialfeatures__odometer^2',\n",
      "       'onehotencoder__type_hatchback', 'onehotencoder__type_other',\n",
      "       'onehotencoder__type_sedan'],\n",
      "      dtype='object')\n",
      "Coefficients:        polynomialfeatures__year odometer  polynomialfeatures__odometer^2  \\\n",
      "model                          -0.000012                    2.352889e-09   \n",
      "\n",
      "       onehotencoder__type_hatchback  onehotencoder__type_other  \\\n",
      "model                  -13750.900519                 3693.10132   \n",
      "\n",
      "       onehotencoder__type_sedan  \n",
      "model               -6737.619861  \n"
     ]
    }
   ],
   "source": [
    "sfs_best_estimator = sfs_grid.best_estimator_\n",
    "sfs_best_selector = sfs_best_estimator.named_steps['selector']\n",
    "sfs_best_model = sfs_grid.best_estimator_.named_steps['model']\n",
    "\n",
    "sfs_column_transformer_step = sfs_best_estimator.named_steps['transformer']\n",
    "sfs_X_train_transformed = sfs_column_transformer_step.transform(X_train[features])\n",
    "\n",
    "sfs_feature_names = sfs_column_transformer_step.get_feature_names_out()\n",
    "sfs_X_train_transformed_df = pd.DataFrame(sfs_X_train_transformed, columns=sfs_feature_names)\n",
    "\n",
    "sfs_selected_feature_names = sfs_X_train_transformed_df.columns[sfs_best_selector.get_support()]\n",
    "print(f\"Selected features: {sfs_selected_feature_names}\")\n",
    "\n",
    "sfs_coefs = sfs_best_model.coef_\n",
    "print(f'Coefficients: {pd.DataFrame([sfs_coefs], columns=sfs_selected_feature_names, index=[\"model\"])}')"
   ]
  },
  {
   "cell_type": "code",
   "execution_count": 548,
   "metadata": {},
   "outputs": [
    {
     "name": "stdout",
     "output_type": "stream",
     "text": [
      "Selected features: Index(['polynomialfeatures__odometer', 'polynomialfeatures__year odometer',\n",
      "       'onehotencoder__fuel_diesel', 'onehotencoder__transmission_other',\n",
      "       'onehotencoder__drive_fwd'],\n",
      "      dtype='object')\n",
      "Coefficients:        polynomialfeatures__odometer  polynomialfeatures__year odometer  \\\n",
      "model                      0.404061                          -0.000205   \n",
      "\n",
      "       onehotencoder__fuel_diesel  onehotencoder__transmission_other  \\\n",
      "model                  7096.10775                       10680.931727   \n",
      "\n",
      "       onehotencoder__drive_fwd  \n",
      "model              -8102.268795  \n"
     ]
    }
   ],
   "source": [
    "sfs_best_estimator_2 = sfs_grid_2.best_estimator_\n",
    "sfs_best_selector_2 = sfs_best_estimator_2.named_steps['selector']\n",
    "sfs_best_model_2 = sfs_grid_2.best_estimator_.named_steps['model']\n",
    "\n",
    "sfs_column_transformer_step_2 = sfs_best_estimator_2.named_steps['transformer']\n",
    "sfs_X_train_transformed_2 = sfs_column_transformer_step_2.transform(X_train[features_2])\n",
    "\n",
    "sfs_feature_names_2 = sfs_column_transformer_step_2.get_feature_names_out()\n",
    "sfs_X_train_transformed_df_2 = pd.DataFrame(sfs_X_train_transformed_2, columns=sfs_feature_names_2)\n",
    "\n",
    "sfs_selected_feature_names_2 = sfs_X_train_transformed_df_2.columns[sfs_best_selector_2.get_support()]\n",
    "print(f\"Selected features: {sfs_selected_feature_names_2}\")\n",
    "\n",
    "sfs_coefs_2 = sfs_best_model_2.coef_\n",
    "print(f'Coefficients: {pd.DataFrame([sfs_coefs_2], columns=sfs_selected_feature_names_2, index=[\"model\"])}')"
   ]
  },
  {
   "cell_type": "markdown",
   "metadata": {},
   "source": [
    "#### LASSO"
   ]
  },
  {
   "cell_type": "code",
   "execution_count": 549,
   "metadata": {},
   "outputs": [
    {
     "data": {
      "text/html": [
       "<div>\n",
       "<style scoped>\n",
       "    .dataframe tbody tr th:only-of-type {\n",
       "        vertical-align: middle;\n",
       "    }\n",
       "\n",
       "    .dataframe tbody tr th {\n",
       "        vertical-align: top;\n",
       "    }\n",
       "\n",
       "    .dataframe thead th {\n",
       "        text-align: right;\n",
       "    }\n",
       "</style>\n",
       "<table border=\"1\" class=\"dataframe\">\n",
       "  <thead>\n",
       "    <tr style=\"text-align: right;\">\n",
       "      <th></th>\n",
       "      <th>feature</th>\n",
       "      <th>coef</th>\n",
       "    </tr>\n",
       "  </thead>\n",
       "  <tbody>\n",
       "    <tr>\n",
       "      <th>2</th>\n",
       "      <td>polynomialfeatures__cylinders</td>\n",
       "      <td>19150.648283</td>\n",
       "    </tr>\n",
       "    <tr>\n",
       "      <th>3</th>\n",
       "      <td>polynomialfeatures__odometer</td>\n",
       "      <td>5617.237034</td>\n",
       "    </tr>\n",
       "    <tr>\n",
       "      <th>8</th>\n",
       "      <td>polynomialfeatures__cylinders odometer</td>\n",
       "      <td>5392.960164</td>\n",
       "    </tr>\n",
       "    <tr>\n",
       "      <th>10</th>\n",
       "      <td>ordinalencoder-1__condition</td>\n",
       "      <td>4724.424678</td>\n",
       "    </tr>\n",
       "    <tr>\n",
       "      <th>20</th>\n",
       "      <td>onehotencoder__type_pickup</td>\n",
       "      <td>4544.063340</td>\n",
       "    </tr>\n",
       "    <tr>\n",
       "      <th>22</th>\n",
       "      <td>onehotencoder__type_truck</td>\n",
       "      <td>3133.809123</td>\n",
       "    </tr>\n",
       "    <tr>\n",
       "      <th>9</th>\n",
       "      <td>polynomialfeatures__odometer^2</td>\n",
       "      <td>1865.060617</td>\n",
       "    </tr>\n",
       "    <tr>\n",
       "      <th>19</th>\n",
       "      <td>onehotencoder__type_other</td>\n",
       "      <td>1343.060680</td>\n",
       "    </tr>\n",
       "    <tr>\n",
       "      <th>11</th>\n",
       "      <td>ordinalencoder-2__title_status</td>\n",
       "      <td>990.814814</td>\n",
       "    </tr>\n",
       "    <tr>\n",
       "      <th>4</th>\n",
       "      <td>polynomialfeatures__year^2</td>\n",
       "      <td>180.531731</td>\n",
       "    </tr>\n",
       "    <tr>\n",
       "      <th>15</th>\n",
       "      <td>onehotencoder__type_coupe</td>\n",
       "      <td>-59.463516</td>\n",
       "    </tr>\n",
       "    <tr>\n",
       "      <th>18</th>\n",
       "      <td>onehotencoder__type_offroad</td>\n",
       "      <td>-232.981801</td>\n",
       "    </tr>\n",
       "    <tr>\n",
       "      <th>21</th>\n",
       "      <td>onehotencoder__type_sedan</td>\n",
       "      <td>-317.072898</td>\n",
       "    </tr>\n",
       "    <tr>\n",
       "      <th>13</th>\n",
       "      <td>onehotencoder__type_bus</td>\n",
       "      <td>-378.116125</td>\n",
       "    </tr>\n",
       "    <tr>\n",
       "      <th>1</th>\n",
       "      <td>polynomialfeatures__year</td>\n",
       "      <td>-487.778010</td>\n",
       "    </tr>\n",
       "    <tr>\n",
       "      <th>5</th>\n",
       "      <td>polynomialfeatures__year cylinders</td>\n",
       "      <td>-609.509527</td>\n",
       "    </tr>\n",
       "    <tr>\n",
       "      <th>16</th>\n",
       "      <td>onehotencoder__type_hatchback</td>\n",
       "      <td>-636.645651</td>\n",
       "    </tr>\n",
       "    <tr>\n",
       "      <th>24</th>\n",
       "      <td>onehotencoder__type_wagon</td>\n",
       "      <td>-754.974897</td>\n",
       "    </tr>\n",
       "    <tr>\n",
       "      <th>23</th>\n",
       "      <td>onehotencoder__type_van</td>\n",
       "      <td>-809.823737</td>\n",
       "    </tr>\n",
       "    <tr>\n",
       "      <th>14</th>\n",
       "      <td>onehotencoder__type_convertible</td>\n",
       "      <td>-863.868650</td>\n",
       "    </tr>\n",
       "    <tr>\n",
       "      <th>17</th>\n",
       "      <td>onehotencoder__type_mini-van</td>\n",
       "      <td>-1725.169465</td>\n",
       "    </tr>\n",
       "    <tr>\n",
       "      <th>12</th>\n",
       "      <td>onehotencoder__type_SUV</td>\n",
       "      <td>-2551.281369</td>\n",
       "    </tr>\n",
       "    <tr>\n",
       "      <th>7</th>\n",
       "      <td>polynomialfeatures__cylinders^2</td>\n",
       "      <td>-13246.178802</td>\n",
       "    </tr>\n",
       "    <tr>\n",
       "      <th>6</th>\n",
       "      <td>polynomialfeatures__year odometer</td>\n",
       "      <td>-13306.674951</td>\n",
       "    </tr>\n",
       "  </tbody>\n",
       "</table>\n",
       "</div>"
      ],
      "text/plain": [
       "                                   feature          coef\n",
       "2            polynomialfeatures__cylinders  19150.648283\n",
       "3             polynomialfeatures__odometer   5617.237034\n",
       "8   polynomialfeatures__cylinders odometer   5392.960164\n",
       "10             ordinalencoder-1__condition   4724.424678\n",
       "20              onehotencoder__type_pickup   4544.063340\n",
       "22               onehotencoder__type_truck   3133.809123\n",
       "9           polynomialfeatures__odometer^2   1865.060617\n",
       "19               onehotencoder__type_other   1343.060680\n",
       "11          ordinalencoder-2__title_status    990.814814\n",
       "4               polynomialfeatures__year^2    180.531731\n",
       "15               onehotencoder__type_coupe    -59.463516\n",
       "18             onehotencoder__type_offroad   -232.981801\n",
       "21               onehotencoder__type_sedan   -317.072898\n",
       "13                 onehotencoder__type_bus   -378.116125\n",
       "1                 polynomialfeatures__year   -487.778010\n",
       "5       polynomialfeatures__year cylinders   -609.509527\n",
       "16           onehotencoder__type_hatchback   -636.645651\n",
       "24               onehotencoder__type_wagon   -754.974897\n",
       "23                 onehotencoder__type_van   -809.823737\n",
       "14         onehotencoder__type_convertible   -863.868650\n",
       "17            onehotencoder__type_mini-van  -1725.169465\n",
       "12                 onehotencoder__type_SUV  -2551.281369\n",
       "7          polynomialfeatures__cylinders^2 -13246.178802\n",
       "6        polynomialfeatures__year odometer -13306.674951"
      ]
     },
     "execution_count": 549,
     "metadata": {},
     "output_type": "execute_result"
    }
   ],
   "source": [
    "lasso_feature_names = lasso_pipe.named_steps['transformer'].get_feature_names_out()\n",
    "lasso_df = pd.DataFrame({'feature': lasso_feature_names, 'coef': lasso_coefs})\n",
    "\n",
    "lasso_df.loc[lasso_df['coef'] != 0].sort_values(by='coef', ascending=False)"
   ]
  },
  {
   "cell_type": "code",
   "execution_count": 550,
   "metadata": {},
   "outputs": [
    {
     "data": {
      "text/html": [
       "<div>\n",
       "<style scoped>\n",
       "    .dataframe tbody tr th:only-of-type {\n",
       "        vertical-align: middle;\n",
       "    }\n",
       "\n",
       "    .dataframe tbody tr th {\n",
       "        vertical-align: top;\n",
       "    }\n",
       "\n",
       "    .dataframe thead th {\n",
       "        text-align: right;\n",
       "    }\n",
       "</style>\n",
       "<table border=\"1\" class=\"dataframe\">\n",
       "  <thead>\n",
       "    <tr style=\"text-align: right;\">\n",
       "      <th></th>\n",
       "      <th>feature</th>\n",
       "      <th>coef</th>\n",
       "    </tr>\n",
       "  </thead>\n",
       "  <tbody>\n",
       "    <tr>\n",
       "      <th>2</th>\n",
       "      <td>polynomialfeatures__cylinders</td>\n",
       "      <td>11075.782614</td>\n",
       "    </tr>\n",
       "    <tr>\n",
       "      <th>8</th>\n",
       "      <td>polynomialfeatures__cylinders odometer</td>\n",
       "      <td>6074.478652</td>\n",
       "    </tr>\n",
       "    <tr>\n",
       "      <th>9</th>\n",
       "      <td>polynomialfeatures__odometer^2</td>\n",
       "      <td>3746.662583</td>\n",
       "    </tr>\n",
       "    <tr>\n",
       "      <th>18</th>\n",
       "      <td>onehotencoder__drive_4wd</td>\n",
       "      <td>3097.143337</td>\n",
       "    </tr>\n",
       "    <tr>\n",
       "      <th>3</th>\n",
       "      <td>polynomialfeatures__odometer</td>\n",
       "      <td>2374.911606</td>\n",
       "    </tr>\n",
       "    <tr>\n",
       "      <th>17</th>\n",
       "      <td>onehotencoder__transmission_other</td>\n",
       "      <td>1879.564464</td>\n",
       "    </tr>\n",
       "    <tr>\n",
       "      <th>19</th>\n",
       "      <td>onehotencoder__drive_fwd</td>\n",
       "      <td>1512.899636</td>\n",
       "    </tr>\n",
       "    <tr>\n",
       "      <th>10</th>\n",
       "      <td>onehotencoder__fuel_diesel</td>\n",
       "      <td>599.526105</td>\n",
       "    </tr>\n",
       "    <tr>\n",
       "      <th>4</th>\n",
       "      <td>polynomialfeatures__year^2</td>\n",
       "      <td>477.868012</td>\n",
       "    </tr>\n",
       "    <tr>\n",
       "      <th>11</th>\n",
       "      <td>onehotencoder__fuel_electric</td>\n",
       "      <td>257.324550</td>\n",
       "    </tr>\n",
       "    <tr>\n",
       "      <th>13</th>\n",
       "      <td>onehotencoder__fuel_hybrid</td>\n",
       "      <td>-55.175239</td>\n",
       "    </tr>\n",
       "    <tr>\n",
       "      <th>14</th>\n",
       "      <td>onehotencoder__fuel_other</td>\n",
       "      <td>-145.526221</td>\n",
       "    </tr>\n",
       "    <tr>\n",
       "      <th>5</th>\n",
       "      <td>polynomialfeatures__year cylinders</td>\n",
       "      <td>-529.518786</td>\n",
       "    </tr>\n",
       "    <tr>\n",
       "      <th>15</th>\n",
       "      <td>onehotencoder__transmission_automatic</td>\n",
       "      <td>-582.800475</td>\n",
       "    </tr>\n",
       "    <tr>\n",
       "      <th>16</th>\n",
       "      <td>onehotencoder__transmission_manual</td>\n",
       "      <td>-1116.195895</td>\n",
       "    </tr>\n",
       "    <tr>\n",
       "      <th>1</th>\n",
       "      <td>polynomialfeatures__year</td>\n",
       "      <td>-1637.188175</td>\n",
       "    </tr>\n",
       "    <tr>\n",
       "      <th>20</th>\n",
       "      <td>onehotencoder__drive_rwd</td>\n",
       "      <td>-2376.701258</td>\n",
       "    </tr>\n",
       "    <tr>\n",
       "      <th>7</th>\n",
       "      <td>polynomialfeatures__cylinders^2</td>\n",
       "      <td>-2838.671057</td>\n",
       "    </tr>\n",
       "    <tr>\n",
       "      <th>6</th>\n",
       "      <td>polynomialfeatures__year odometer</td>\n",
       "      <td>-12756.248608</td>\n",
       "    </tr>\n",
       "  </tbody>\n",
       "</table>\n",
       "</div>"
      ],
      "text/plain": [
       "                                   feature          coef\n",
       "2            polynomialfeatures__cylinders  11075.782614\n",
       "8   polynomialfeatures__cylinders odometer   6074.478652\n",
       "9           polynomialfeatures__odometer^2   3746.662583\n",
       "18                onehotencoder__drive_4wd   3097.143337\n",
       "3             polynomialfeatures__odometer   2374.911606\n",
       "17       onehotencoder__transmission_other   1879.564464\n",
       "19                onehotencoder__drive_fwd   1512.899636\n",
       "10              onehotencoder__fuel_diesel    599.526105\n",
       "4               polynomialfeatures__year^2    477.868012\n",
       "11            onehotencoder__fuel_electric    257.324550\n",
       "13              onehotencoder__fuel_hybrid    -55.175239\n",
       "14               onehotencoder__fuel_other   -145.526221\n",
       "5       polynomialfeatures__year cylinders   -529.518786\n",
       "15   onehotencoder__transmission_automatic   -582.800475\n",
       "16      onehotencoder__transmission_manual  -1116.195895\n",
       "1                 polynomialfeatures__year  -1637.188175\n",
       "20                onehotencoder__drive_rwd  -2376.701258\n",
       "7          polynomialfeatures__cylinders^2  -2838.671057\n",
       "6        polynomialfeatures__year odometer -12756.248608"
      ]
     },
     "execution_count": 550,
     "metadata": {},
     "output_type": "execute_result"
    }
   ],
   "source": [
    "lasso_feature_names_2 = lasso_pipe_2.named_steps['transformer'].get_feature_names_out()\n",
    "lasso_df_2 = pd.DataFrame({'feature': lasso_feature_names_2, 'coef': lasso_coefs_2})\n",
    "\n",
    "lasso_df_2.loc[lasso_df_2['coef'] != 0].sort_values(by='coef', ascending=False)"
   ]
  },
  {
   "cell_type": "code",
   "execution_count": 551,
   "metadata": {},
   "outputs": [
    {
     "data": {
      "text/html": [
       "<div>\n",
       "<style scoped>\n",
       "    .dataframe tbody tr th:only-of-type {\n",
       "        vertical-align: middle;\n",
       "    }\n",
       "\n",
       "    .dataframe tbody tr th {\n",
       "        vertical-align: top;\n",
       "    }\n",
       "\n",
       "    .dataframe thead th {\n",
       "        text-align: right;\n",
       "    }\n",
       "</style>\n",
       "<table border=\"1\" class=\"dataframe\">\n",
       "  <thead>\n",
       "    <tr style=\"text-align: right;\">\n",
       "      <th></th>\n",
       "      <th>Model</th>\n",
       "      <th>MSE</th>\n",
       "    </tr>\n",
       "  </thead>\n",
       "  <tbody>\n",
       "    <tr>\n",
       "      <th>0</th>\n",
       "      <td>SFS Train</td>\n",
       "      <td>6.015695e+11</td>\n",
       "    </tr>\n",
       "    <tr>\n",
       "      <th>1</th>\n",
       "      <td>SFS Test</td>\n",
       "      <td>4.379696e+14</td>\n",
       "    </tr>\n",
       "    <tr>\n",
       "      <th>2</th>\n",
       "      <td>Ridge Train</td>\n",
       "      <td>6.014992e+11</td>\n",
       "    </tr>\n",
       "    <tr>\n",
       "      <th>3</th>\n",
       "      <td>Ridge Test</td>\n",
       "      <td>4.379672e+14</td>\n",
       "    </tr>\n",
       "    <tr>\n",
       "      <th>4</th>\n",
       "      <td>LASSO Train</td>\n",
       "      <td>6.014526e+11</td>\n",
       "    </tr>\n",
       "    <tr>\n",
       "      <th>5</th>\n",
       "      <td>LASSO Test</td>\n",
       "      <td>4.379640e+14</td>\n",
       "    </tr>\n",
       "  </tbody>\n",
       "</table>\n",
       "</div>"
      ],
      "text/plain": [
       "         Model           MSE\n",
       "0    SFS Train  6.015695e+11\n",
       "1     SFS Test  4.379696e+14\n",
       "2  Ridge Train  6.014992e+11\n",
       "3   Ridge Test  4.379672e+14\n",
       "4  LASSO Train  6.014526e+11\n",
       "5   LASSO Test  4.379640e+14"
      ]
     },
     "execution_count": 551,
     "metadata": {},
     "output_type": "execute_result"
    }
   ],
   "source": [
    "'''\n",
    "Now that we have all the MSEs, let's compare them between the feature lists\n",
    "'''\n",
    "\n",
    "feature_1_MSEs = {\n",
    "    'SFS Train': sfs_train_mse,\n",
    "    'SFS Test': sfs_test_mse,\n",
    "    'Ridge Train': ridge_train_mse,\n",
    "    'Ridge Test': ridge_test_mse,\n",
    "    'LASSO Train' : lasso_train_mse,\n",
    "    'LASSO Test' : lasso_test_mse\n",
    "    \n",
    "}\n",
    "\n",
    "feature_1_mse_df = pd.DataFrame(list(feature_1_MSEs.items()), columns=['Model', 'MSE'])\n",
    "feature_1_mse_df"
   ]
  },
  {
   "cell_type": "markdown",
   "metadata": {},
   "source": [
    "Our model MSEs seem quite high. Even trying the log transformed price we are seeing large MSEs across all models.\n",
    "Future improvements to feature selection and how we transform the data may provide better performing models.\n",
    "\n",
    "Nevertheless, there are some takeaways that we can present while we prepare to repeat the CRISP-DM process."
   ]
  },
  {
   "cell_type": "markdown",
   "metadata": {},
   "source": [
    "---\n",
    "---\n",
    "\n",
    "### Deployment\n",
    "\n",
    "Now that we've settled on our models and findings, it is time to deliver the information to the client.  You should organize your work as a basic report that details your primary findings.  Keep in mind that your audience is a group of used car dealers interested in fine tuning their inventory.\n",
    "\n",
    "---\n",
    "---"
   ]
  },
  {
   "cell_type": "markdown",
   "metadata": {},
   "source": [
    "#### The Business Ask:\n",
    "what are the key drivers for used car prices?\n",
    "\n",
    "#### Our Task:\n",
    "1. Explore the data and verify quality\n",
    "2. Make any necessary transformations\n",
    "3. Build various models\n",
    "4. Assess model performance and analyze results"
   ]
  },
  {
   "cell_type": "markdown",
   "metadata": {},
   "source": [
    "#### 1. Explore the data and verify quality\n",
    "\n",
    "We pull in the data and see we have records for 426880 used cars. After exploring more of this data, it is clear there were many missing values, especially for the field `size`, in which there were 306361 null values. As a result, we decided that field may be dropped for this initial analysis and we would need more values in an updated dataset for it to be more valuable in the estimation of the vehicle's price.\n",
    "\n",
    "We cleaned the rest of the data by dropping any remaining null values and other columns that would not be relevant to all car salesmen. This left us with 115680 entries of complete data to use in the creation of our models."
   ]
  },
  {
   "cell_type": "markdown",
   "metadata": {},
   "source": [
    "#### 2. Make any necessary transformations\n",
    "In order to build our models, we must convert any qualitative or non-integer values into integers or floats. In some cases we transformed the data by adjusting the values for the field. For example, the number of cylinders on each used car was recorded as a string 'X cylinders' where X is the number of cylinders. Seeing as this is a bit redundant, the column was transformed to hold just the numerical value.\n",
    "\n",
    "Other fields were adjusted in a similar fashion using the tools OrdinalEncoder and OneHotEncoder."
   ]
  },
  {
   "cell_type": "markdown",
   "metadata": {},
   "source": [
    "#### 3. Build various models\n",
    "We utilized a variety of models and separated these models by two sets of features to investigate. Based on early analysis the number of cylinders was most highly correlated to a car's price. This feature is included in both lists.\n",
    "\n",
    "Features 1 = ['year', 'condition', 'title_status', 'cylinders', 'odometer', 'type'] \\\n",
    "Features 2 = ['fuel', 'transmission', 'drive', 'year', 'cylinders', 'odometer']\n",
    "\n",
    "All of our models utilized a 70/30 training/test split of the data. Though all models performed similarly, let's review the results of our LASSO (least absolute shrinkage and selection operator) model. This model had the lowest MSE (mean squared error) of the models we built, indicating a slightly stronger performance for our estimation of car price.\n",
    "\n",
    "Shown below are the coefficient values from the LASSO models, which describe the features that are important in the estimation of a car's price as well as the direction and magnitude of their relationship to `price`."
   ]
  },
  {
   "cell_type": "code",
   "execution_count": 553,
   "metadata": {},
   "outputs": [
    {
     "name": "stdout",
     "output_type": "stream",
     "text": [
      "LASSO Model Coefficients - Feature set 1\n"
     ]
    },
    {
     "data": {
      "text/html": [
       "<div>\n",
       "<style scoped>\n",
       "    .dataframe tbody tr th:only-of-type {\n",
       "        vertical-align: middle;\n",
       "    }\n",
       "\n",
       "    .dataframe tbody tr th {\n",
       "        vertical-align: top;\n",
       "    }\n",
       "\n",
       "    .dataframe thead th {\n",
       "        text-align: right;\n",
       "    }\n",
       "</style>\n",
       "<table border=\"1\" class=\"dataframe\">\n",
       "  <thead>\n",
       "    <tr style=\"text-align: right;\">\n",
       "      <th></th>\n",
       "      <th>feature</th>\n",
       "      <th>coef</th>\n",
       "    </tr>\n",
       "  </thead>\n",
       "  <tbody>\n",
       "    <tr>\n",
       "      <th>2</th>\n",
       "      <td>polynomialfeatures__cylinders</td>\n",
       "      <td>19150.648283</td>\n",
       "    </tr>\n",
       "    <tr>\n",
       "      <th>3</th>\n",
       "      <td>polynomialfeatures__odometer</td>\n",
       "      <td>5617.237034</td>\n",
       "    </tr>\n",
       "    <tr>\n",
       "      <th>8</th>\n",
       "      <td>polynomialfeatures__cylinders odometer</td>\n",
       "      <td>5392.960164</td>\n",
       "    </tr>\n",
       "    <tr>\n",
       "      <th>10</th>\n",
       "      <td>ordinalencoder-1__condition</td>\n",
       "      <td>4724.424678</td>\n",
       "    </tr>\n",
       "    <tr>\n",
       "      <th>20</th>\n",
       "      <td>onehotencoder__type_pickup</td>\n",
       "      <td>4544.063340</td>\n",
       "    </tr>\n",
       "    <tr>\n",
       "      <th>22</th>\n",
       "      <td>onehotencoder__type_truck</td>\n",
       "      <td>3133.809123</td>\n",
       "    </tr>\n",
       "    <tr>\n",
       "      <th>9</th>\n",
       "      <td>polynomialfeatures__odometer^2</td>\n",
       "      <td>1865.060617</td>\n",
       "    </tr>\n",
       "    <tr>\n",
       "      <th>19</th>\n",
       "      <td>onehotencoder__type_other</td>\n",
       "      <td>1343.060680</td>\n",
       "    </tr>\n",
       "    <tr>\n",
       "      <th>11</th>\n",
       "      <td>ordinalencoder-2__title_status</td>\n",
       "      <td>990.814814</td>\n",
       "    </tr>\n",
       "    <tr>\n",
       "      <th>4</th>\n",
       "      <td>polynomialfeatures__year^2</td>\n",
       "      <td>180.531731</td>\n",
       "    </tr>\n",
       "    <tr>\n",
       "      <th>15</th>\n",
       "      <td>onehotencoder__type_coupe</td>\n",
       "      <td>-59.463516</td>\n",
       "    </tr>\n",
       "    <tr>\n",
       "      <th>18</th>\n",
       "      <td>onehotencoder__type_offroad</td>\n",
       "      <td>-232.981801</td>\n",
       "    </tr>\n",
       "    <tr>\n",
       "      <th>21</th>\n",
       "      <td>onehotencoder__type_sedan</td>\n",
       "      <td>-317.072898</td>\n",
       "    </tr>\n",
       "    <tr>\n",
       "      <th>13</th>\n",
       "      <td>onehotencoder__type_bus</td>\n",
       "      <td>-378.116125</td>\n",
       "    </tr>\n",
       "    <tr>\n",
       "      <th>1</th>\n",
       "      <td>polynomialfeatures__year</td>\n",
       "      <td>-487.778010</td>\n",
       "    </tr>\n",
       "    <tr>\n",
       "      <th>5</th>\n",
       "      <td>polynomialfeatures__year cylinders</td>\n",
       "      <td>-609.509527</td>\n",
       "    </tr>\n",
       "    <tr>\n",
       "      <th>16</th>\n",
       "      <td>onehotencoder__type_hatchback</td>\n",
       "      <td>-636.645651</td>\n",
       "    </tr>\n",
       "    <tr>\n",
       "      <th>24</th>\n",
       "      <td>onehotencoder__type_wagon</td>\n",
       "      <td>-754.974897</td>\n",
       "    </tr>\n",
       "    <tr>\n",
       "      <th>23</th>\n",
       "      <td>onehotencoder__type_van</td>\n",
       "      <td>-809.823737</td>\n",
       "    </tr>\n",
       "    <tr>\n",
       "      <th>14</th>\n",
       "      <td>onehotencoder__type_convertible</td>\n",
       "      <td>-863.868650</td>\n",
       "    </tr>\n",
       "    <tr>\n",
       "      <th>17</th>\n",
       "      <td>onehotencoder__type_mini-van</td>\n",
       "      <td>-1725.169465</td>\n",
       "    </tr>\n",
       "    <tr>\n",
       "      <th>12</th>\n",
       "      <td>onehotencoder__type_SUV</td>\n",
       "      <td>-2551.281369</td>\n",
       "    </tr>\n",
       "    <tr>\n",
       "      <th>7</th>\n",
       "      <td>polynomialfeatures__cylinders^2</td>\n",
       "      <td>-13246.178802</td>\n",
       "    </tr>\n",
       "    <tr>\n",
       "      <th>6</th>\n",
       "      <td>polynomialfeatures__year odometer</td>\n",
       "      <td>-13306.674951</td>\n",
       "    </tr>\n",
       "  </tbody>\n",
       "</table>\n",
       "</div>"
      ],
      "text/plain": [
       "                                   feature          coef\n",
       "2            polynomialfeatures__cylinders  19150.648283\n",
       "3             polynomialfeatures__odometer   5617.237034\n",
       "8   polynomialfeatures__cylinders odometer   5392.960164\n",
       "10             ordinalencoder-1__condition   4724.424678\n",
       "20              onehotencoder__type_pickup   4544.063340\n",
       "22               onehotencoder__type_truck   3133.809123\n",
       "9           polynomialfeatures__odometer^2   1865.060617\n",
       "19               onehotencoder__type_other   1343.060680\n",
       "11          ordinalencoder-2__title_status    990.814814\n",
       "4               polynomialfeatures__year^2    180.531731\n",
       "15               onehotencoder__type_coupe    -59.463516\n",
       "18             onehotencoder__type_offroad   -232.981801\n",
       "21               onehotencoder__type_sedan   -317.072898\n",
       "13                 onehotencoder__type_bus   -378.116125\n",
       "1                 polynomialfeatures__year   -487.778010\n",
       "5       polynomialfeatures__year cylinders   -609.509527\n",
       "16           onehotencoder__type_hatchback   -636.645651\n",
       "24               onehotencoder__type_wagon   -754.974897\n",
       "23                 onehotencoder__type_van   -809.823737\n",
       "14         onehotencoder__type_convertible   -863.868650\n",
       "17            onehotencoder__type_mini-van  -1725.169465\n",
       "12                 onehotencoder__type_SUV  -2551.281369\n",
       "7          polynomialfeatures__cylinders^2 -13246.178802\n",
       "6        polynomialfeatures__year odometer -13306.674951"
      ]
     },
     "execution_count": 553,
     "metadata": {},
     "output_type": "execute_result"
    }
   ],
   "source": [
    "print('LASSO Model Coefficients - Feature set 1')\n",
    "lasso_df.loc[lasso_df['coef'] != 0].sort_values(by='coef', ascending=False)"
   ]
  },
  {
   "cell_type": "code",
   "execution_count": 554,
   "metadata": {},
   "outputs": [
    {
     "name": "stdout",
     "output_type": "stream",
     "text": [
      "LASSO Model Coefficients - Feature set 2\n"
     ]
    },
    {
     "data": {
      "text/html": [
       "<div>\n",
       "<style scoped>\n",
       "    .dataframe tbody tr th:only-of-type {\n",
       "        vertical-align: middle;\n",
       "    }\n",
       "\n",
       "    .dataframe tbody tr th {\n",
       "        vertical-align: top;\n",
       "    }\n",
       "\n",
       "    .dataframe thead th {\n",
       "        text-align: right;\n",
       "    }\n",
       "</style>\n",
       "<table border=\"1\" class=\"dataframe\">\n",
       "  <thead>\n",
       "    <tr style=\"text-align: right;\">\n",
       "      <th></th>\n",
       "      <th>feature</th>\n",
       "      <th>coef</th>\n",
       "    </tr>\n",
       "  </thead>\n",
       "  <tbody>\n",
       "    <tr>\n",
       "      <th>2</th>\n",
       "      <td>polynomialfeatures__cylinders</td>\n",
       "      <td>11075.782614</td>\n",
       "    </tr>\n",
       "    <tr>\n",
       "      <th>8</th>\n",
       "      <td>polynomialfeatures__cylinders odometer</td>\n",
       "      <td>6074.478652</td>\n",
       "    </tr>\n",
       "    <tr>\n",
       "      <th>9</th>\n",
       "      <td>polynomialfeatures__odometer^2</td>\n",
       "      <td>3746.662583</td>\n",
       "    </tr>\n",
       "    <tr>\n",
       "      <th>18</th>\n",
       "      <td>onehotencoder__drive_4wd</td>\n",
       "      <td>3097.143337</td>\n",
       "    </tr>\n",
       "    <tr>\n",
       "      <th>3</th>\n",
       "      <td>polynomialfeatures__odometer</td>\n",
       "      <td>2374.911606</td>\n",
       "    </tr>\n",
       "    <tr>\n",
       "      <th>17</th>\n",
       "      <td>onehotencoder__transmission_other</td>\n",
       "      <td>1879.564464</td>\n",
       "    </tr>\n",
       "    <tr>\n",
       "      <th>19</th>\n",
       "      <td>onehotencoder__drive_fwd</td>\n",
       "      <td>1512.899636</td>\n",
       "    </tr>\n",
       "    <tr>\n",
       "      <th>10</th>\n",
       "      <td>onehotencoder__fuel_diesel</td>\n",
       "      <td>599.526105</td>\n",
       "    </tr>\n",
       "    <tr>\n",
       "      <th>4</th>\n",
       "      <td>polynomialfeatures__year^2</td>\n",
       "      <td>477.868012</td>\n",
       "    </tr>\n",
       "    <tr>\n",
       "      <th>11</th>\n",
       "      <td>onehotencoder__fuel_electric</td>\n",
       "      <td>257.324550</td>\n",
       "    </tr>\n",
       "    <tr>\n",
       "      <th>13</th>\n",
       "      <td>onehotencoder__fuel_hybrid</td>\n",
       "      <td>-55.175239</td>\n",
       "    </tr>\n",
       "    <tr>\n",
       "      <th>14</th>\n",
       "      <td>onehotencoder__fuel_other</td>\n",
       "      <td>-145.526221</td>\n",
       "    </tr>\n",
       "    <tr>\n",
       "      <th>5</th>\n",
       "      <td>polynomialfeatures__year cylinders</td>\n",
       "      <td>-529.518786</td>\n",
       "    </tr>\n",
       "    <tr>\n",
       "      <th>15</th>\n",
       "      <td>onehotencoder__transmission_automatic</td>\n",
       "      <td>-582.800475</td>\n",
       "    </tr>\n",
       "    <tr>\n",
       "      <th>16</th>\n",
       "      <td>onehotencoder__transmission_manual</td>\n",
       "      <td>-1116.195895</td>\n",
       "    </tr>\n",
       "    <tr>\n",
       "      <th>1</th>\n",
       "      <td>polynomialfeatures__year</td>\n",
       "      <td>-1637.188175</td>\n",
       "    </tr>\n",
       "    <tr>\n",
       "      <th>20</th>\n",
       "      <td>onehotencoder__drive_rwd</td>\n",
       "      <td>-2376.701258</td>\n",
       "    </tr>\n",
       "    <tr>\n",
       "      <th>7</th>\n",
       "      <td>polynomialfeatures__cylinders^2</td>\n",
       "      <td>-2838.671057</td>\n",
       "    </tr>\n",
       "    <tr>\n",
       "      <th>6</th>\n",
       "      <td>polynomialfeatures__year odometer</td>\n",
       "      <td>-12756.248608</td>\n",
       "    </tr>\n",
       "  </tbody>\n",
       "</table>\n",
       "</div>"
      ],
      "text/plain": [
       "                                   feature          coef\n",
       "2            polynomialfeatures__cylinders  11075.782614\n",
       "8   polynomialfeatures__cylinders odometer   6074.478652\n",
       "9           polynomialfeatures__odometer^2   3746.662583\n",
       "18                onehotencoder__drive_4wd   3097.143337\n",
       "3             polynomialfeatures__odometer   2374.911606\n",
       "17       onehotencoder__transmission_other   1879.564464\n",
       "19                onehotencoder__drive_fwd   1512.899636\n",
       "10              onehotencoder__fuel_diesel    599.526105\n",
       "4               polynomialfeatures__year^2    477.868012\n",
       "11            onehotencoder__fuel_electric    257.324550\n",
       "13              onehotencoder__fuel_hybrid    -55.175239\n",
       "14               onehotencoder__fuel_other   -145.526221\n",
       "5       polynomialfeatures__year cylinders   -529.518786\n",
       "15   onehotencoder__transmission_automatic   -582.800475\n",
       "16      onehotencoder__transmission_manual  -1116.195895\n",
       "1                 polynomialfeatures__year  -1637.188175\n",
       "20                onehotencoder__drive_rwd  -2376.701258\n",
       "7          polynomialfeatures__cylinders^2  -2838.671057\n",
       "6        polynomialfeatures__year odometer -12756.248608"
      ]
     },
     "execution_count": 554,
     "metadata": {},
     "output_type": "execute_result"
    }
   ],
   "source": [
    "print('LASSO Model Coefficients - Feature set 2')\n",
    "lasso_df_2.loc[lasso_df_2['coef'] != 0].sort_values(by='coef', ascending=False)"
   ]
  },
  {
   "cell_type": "markdown",
   "metadata": {},
   "source": [
    "Our LASSO model indicates there are many non-zero coefficients. A feature with a coefficient of 0 may be considered not important in our prediction of price. The top features between both are `cylinders`, `odometer`, or some combination of the two. The bottom features are `year odometer` and `cylinders^2`.\n",
    "\n",
    "From our models, you can assume that the *miles on the odometer* has a strong positive AND negative relationship to price. Besides the miles on the odometer, you should also keep the *number of cylinders* in consideration when reviewing which of your used cars may sell at higher prices. "
   ]
  },
  {
   "cell_type": "markdown",
   "metadata": {},
   "source": [
    "#### 4. Assess model performance and analyze results\n",
    "Let's take a look at the distribution of price based on the number of cylinders and the odometer values:"
   ]
  },
  {
   "cell_type": "code",
   "execution_count": 567,
   "metadata": {},
   "outputs": [
    {
     "data": {
      "image/png": "[encoded data removed]",
      "text/plain": [
       "<Figure size 1000x600 with 1 Axes>"
      ]
     },
     "metadata": {},
     "output_type": "display_data"
    }
   ],
   "source": [
    "plt.figure(figsize=(10, 6))\n",
    "plt.scatter(np.log1p(vehicles['odometer']), np.log1p(vehicles['price']), alpha=0.5)\n",
    "plt.title('Scatter Plot of Price vs. Odometer')\n",
    "plt.xlabel('Log(Odometer)')\n",
    "plt.ylabel('Log(Price)')\n",
    "plt.grid(True)\n",
    "plt.tight_layout()\n",
    "plt.show()"
   ]
  },
  {
   "cell_type": "code",
   "execution_count": 572,
   "metadata": {},
   "outputs": [
    {
     "data": {
      "image/png": "[encoded data removed]",
      "text/plain": [
       "<Figure size 1000x600 with 1 Axes>"
      ]
     },
     "metadata": {},
     "output_type": "display_data"
    }
   ],
   "source": [
    "cylinders_data = vehicles.groupby('cylinders')['price'].apply(list).reset_index()\n",
    "log_price_data = [np.log1p(prices) for prices in cylinders_data['price']]\n",
    "\n",
    "plt.figure(figsize=(10, 6))\n",
    "plt.boxplot(log_price_data, labels=cylinders_data['cylinders'])\n",
    "plt.xlabel('Number of Cylinders')\n",
    "plt.ylabel('Log(Price)')\n",
    "plt.title('Boxplot of Log(Price) by Number of Cylinders')\n",
    "plt.xticks(rotation=45)\n",
    "plt.grid(True)\n",
    "plt.tight_layout()\n",
    "plt.show()"
   ]
  },
  {
   "cell_type": "markdown",
   "metadata": {},
   "source": [
    "Though the LASSO models show strong relationships with these two features, the data still contained some outliers and originally held many null values. The MSEs for each model were quite high between both the training and test sets which suggest we may be able to improve future models by improving our methods of selecting features or transforming the data in new ways. Now that we have a better understanding of the data and a handful of models, we can begin the CRISP-DM process again with these insights to further guide us."
   ]
  }
 ],
 "metadata": {
  "kernelspec": {
   "display_name": "Python 3 (ipykernel)",
   "language": "python",
   "name": "python3"
  },
  "language_info": {
   "codemirror_mode": {
    "name": "ipython",
    "version": 3
   },
   "file_extension": ".py",
   "mimetype": "text/x-python",
   "name": "python",
   "nbconvert_exporter": "python",
   "pygments_lexer": "ipython3",
   "version": "3.11.7"
  },
  "widgets": {
   "application/vnd.jupyter.widget-state+json": {
    "state": {},
    "version_major": 2,
    "version_minor": 0
   }
  }
 },
 "nbformat": 4,
 "nbformat_minor": 4
}
